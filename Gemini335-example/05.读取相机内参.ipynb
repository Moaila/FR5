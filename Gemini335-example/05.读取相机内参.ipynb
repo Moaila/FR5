{
 "cells": [
  {
   "cell_type": "markdown",
   "id": "da553e25",
   "metadata": {},
   "source": [
    "# 读取相机内参\n",
    "```\n",
    "@作者: 阿凯爱玩机器人\n",
    "@QQ: 244561792\n",
    "@微信: xingshunkai\n",
    "@邮箱: xingshunkai@qq.com\n",
    "@网址: deepsenserobot.com\n",
    "@B站: \"阿凯爱玩机器人\"\n",
    "```\n",
    "\n",
    "## 导入依赖"
   ]
  },
  {
   "cell_type": "code",
   "execution_count": 1,
   "id": "6dfd7191",
   "metadata": {},
   "outputs": [
    {
     "name": "stdout",
     "output_type": "stream",
     "text": [
      "Jupyter environment detected. Enabling Open3D WebVisualizer.\n",
      "[Open3D INFO] WebRTC GUI backend enabled.\n",
      "[Open3D INFO] WebRTCWindowSystem: HTTP handshake server disabled.\n"
     ]
    }
   ],
   "source": [
    "# 将pyorbbecsdk的动态链接库所在的文件夹，添加到Python Path\n",
    "import sys\n",
    "import os\n",
    "\n",
    "# 导入阿凯写的Orbbec工具库, 确保orbbec_utils.py跟你目前所执行的脚本在同一级目录下\n",
    "from orbbecsdk_utils import *\n",
    "# 添加Python Path\n",
    "add_path_pyorbbecsdk()\n",
    "\n",
    "# 导入pyorbbecsdk\n",
    "from pyorbbecsdk import *"
   ]
  },
  {
   "cell_type": "code",
   "execution_count": 2,
   "id": "9c5af5c0",
   "metadata": {},
   "outputs": [],
   "source": [
    "import numpy as np\n",
    "import cv2\n",
    "from matplotlib import pyplot as plt"
   ]
  },
  {
   "cell_type": "markdown",
   "id": "69a985ef",
   "metadata": {},
   "source": [
    "## 相机初始化"
   ]
  },
  {
   "cell_type": "code",
   "execution_count": 3,
   "id": "047cf836",
   "metadata": {},
   "outputs": [
    {
     "name": "stdout",
     "output_type": "stream",
     "text": [
      "[06/24 13:54:03.365455][info][19190][Context.cpp:68] Context created with config: default config!\n",
      "[06/24 13:54:03.365468][info][19190][Context.cpp:73] Work directory=/home/kyle/Project/奥比中光3D相机/Gemini335-软件资料-阿凯爱玩机器人/02.奥比中光-pyobbecsdk示例代码(Gemini335), SDK version=v1.10.5-20240511-7dc8be9\n",
      "[06/24 13:54:03.365479][info][19190][LinuxPal.cpp:31] createObPal: create LinuxPal!\n",
      "[06/24 13:54:03.433024][info][19190][LinuxPal.cpp:142] Create PollingDeviceWatcher!\n",
      "[06/24 13:54:03.433057][info][19190][DeviceManager.cpp:15] Current found device(s): (1)\n",
      "[06/24 13:54:03.433061][info][19190][DeviceManager.cpp:24] \t- Name: Orbbec Gemini 335, PID: 0x0800, SN/ID: CP1L44P00049, Connection: USB3.2\n",
      "[INFO] 设备是否连接成功: True\n",
      "[06/24 13:54:03.902880][error][19190][HostProtocol.cpp:420] Set property value failed! propertyId:63, rc:{statusCode: 9, respErrorCode: 2, msg: }\n",
      "[06/24 13:54:03.903210][error][19190][HostProtocol.cpp:420] Set property value failed! propertyId:63, rc:{statusCode: 9, respErrorCode: 2, msg: }\n"
     ]
    }
   ],
   "source": [
    "# 连接设备\n",
    "ret, device = connect_device()\n",
    "print(f\"[INFO] 设备是否连接成功: {ret}\")\n",
    "\n",
    "# pipeline初始化\n",
    "pipeline = init_pipeline(device)"
   ]
  },
  {
   "cell_type": "markdown",
   "id": "ca7fbb2e",
   "metadata": {},
   "source": [
    "## 获取相机内参\n",
    "**注意事项**\n",
    "1. 彩色相机与红外相机有着两套独立的相机内参。需要注意的是分辨率不同，对应的相机内参也是不同的。\n",
    "2. 一般我们是将深度图对齐到彩色相机坐标系下去使用的， 因此只关系彩色相机的内参参数。"
   ]
  },
  {
   "cell_type": "code",
   "execution_count": 4,
   "id": "39a07fd9",
   "metadata": {},
   "outputs": [
    {
     "name": "stdout",
     "output_type": "stream",
     "text": [
      "彩色相机内参\n",
      "<OBCameraIntrinsic fx=687.010010 fy=687.106445 cx=647.172485 cy=360.134766 width=1280 height=720>\n",
      "彩色相机畸变系数\n",
      "<OBCameraDistortion k1=0.005327 k2=-0.039434 k3=0.027466 k4=0.000000 k5=0.000000 k6=0.000000 p1=-0.000107 p2=-0.000340>\n",
      "深度图相机内参\n",
      "<OBCameraIntrinsic fx=687.010010 fy=687.106445 cx=647.172485 cy=360.134766 width=1280 height=720>\n",
      "深度图相机畸变系数\n",
      "<OBCameraDistortion k1=0.000000 k2=0.000000 k3=0.000000 k4=0.000000 k5=0.000000 k6=0.000000 p1=0.000000 p2=0.000000>\n",
      "深度相机到彩色相机坐标系的空间变换\n",
      "<OBD2CTransform rot=[1, 0, 0, 0, 1, 0, 0, 0, 1]\n",
      "transform=[0, 0, 0]\n"
     ]
    }
   ],
   "source": [
    "camera_param = pipeline.get_camera_param()\n",
    "print(\"彩色相机内参\")\n",
    "print(camera_param.rgb_intrinsic)\n",
    "print(f\"彩色相机畸变系数\")\n",
    "print(camera_param.rgb_distortion)\n",
    "print(f\"深度图相机内参\")\n",
    "print(camera_param.depth_intrinsic)\n",
    "print(f\"深度图相机畸变系数\")\n",
    "print(camera_param.depth_distortion)\n",
    "print(\"深度相机到彩色相机坐标系的空间变换\")\n",
    "print(camera_param.transform)"
   ]
  },
  {
   "cell_type": "code",
   "execution_count": 5,
   "id": "3143ed82",
   "metadata": {},
   "outputs": [
    {
     "name": "stdout",
     "output_type": "stream",
     "text": [
      "彩色相机的内参矩阵:\n",
      "[[687.01      0.      647.1725 ]\n",
      " [  0.      687.10645 360.13477]\n",
      " [  0.        0.        1.     ]]\n"
     ]
    }
   ],
   "source": [
    "# 获取彩色相机内参\n",
    "fx = camera_param.rgb_intrinsic.fx\n",
    "fy = camera_param.rgb_intrinsic.fy\n",
    "cx = camera_param.rgb_intrinsic.cx\n",
    "cy = camera_param.rgb_intrinsic.cy\n",
    "# 彩图尺寸\n",
    "img_width = camera_param.rgb_intrinsic.width\n",
    "img_height = camera_param.rgb_intrinsic.height\n",
    "# 构造内参矩阵\n",
    "intrinsic = np.float32([\n",
    "    [fx, 0, cx],\n",
    "    [0, fy, cy],\n",
    "    [0, 0, 1]])\n",
    "print(\"彩色相机的内参矩阵:\")\n",
    "print(intrinsic)"
   ]
  }
 ],
 "metadata": {
  "kernelspec": {
   "display_name": "Python 3 (ipykernel)",
   "language": "python",
   "name": "python3"
  },
  "language_info": {
   "codemirror_mode": {
    "name": "ipython",
    "version": 3
   },
   "file_extension": ".py",
   "mimetype": "text/x-python",
   "name": "python",
   "nbconvert_exporter": "python",
   "pygments_lexer": "ipython3",
   "version": "3.10.12"
  }
 },
 "nbformat": 4,
 "nbformat_minor": 5
}
