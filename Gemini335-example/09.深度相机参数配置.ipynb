{
 "cells": [
  {
   "cell_type": "markdown",
   "id": "b06cf334",
   "metadata": {},
   "source": [
    "## 概要\n",
    "\n",
    "本文讲解了pyorbbecsdk配置红外相机(或者说深度相机)参数的相关API。本质上红外的参数就是深度相机参数， 本文统一称之为深度相机参数。"
   ]
  },
  {
   "cell_type": "markdown",
   "id": "86f44246",
   "metadata": {},
   "source": [
    "## 通过上位机进行调参\n",
    "在上位机界面，调整的参数，查询红外相机的各项参数。 \n",
    "并且可以在上位机的右侧实时预览到不同参数下的深度图效果。依次打开红外图与深度图的预览开关。 \n",
    "\n",
    "左侧的红外图上面布满了白色斑点，这个点点是红外投影仪主动投射到物体上的特征点。 理想情况下，斑点应该跟非斑点区域有足够的对比度， 红外画面整体不能过暗或者过亮。\n",
    "![](./image/调整红外相机参数.png)\n",
    "\n",
    "需要注意的是，在上位机界面调整的参数，掉电后并不会保存。通过SDK调用的时候，需要自己指定相机参数。\n",
    "推荐的使用方法是，先通过上位机对相机参数进行调参，因为可以实时预览， 比较方便。 然后把配置参数记录下来，通过SDK调用的时候，再通过SDK提供的API接口配置为对应数值。 \n",
    "\n",
    "> 注意事项: 在运行jupyter notebook测试脚本之前，记得将上位机关闭， 解除对相机设备的占用。"
   ]
  },
  {
   "cell_type": "markdown",
   "id": "0a0e80ca",
   "metadata": {},
   "source": [
    "## 导入依赖"
   ]
  },
  {
   "cell_type": "code",
   "execution_count": 1,
   "id": "fed607e8",
   "metadata": {},
   "outputs": [
    {
     "name": "stdout",
     "output_type": "stream",
     "text": [
      "Jupyter environment detected. Enabling Open3D WebVisualizer.\n",
      "[Open3D INFO] WebRTC GUI backend enabled.\n",
      "[Open3D INFO] WebRTCWindowSystem: HTTP handshake server disabled.\n"
     ]
    }
   ],
   "source": [
    "# 将pyorbbecsdk的动态链接库所在的文件夹，添加到Python Path\n",
    "import sys\n",
    "import os\n",
    "import open3d as o3d\n",
    "# 导入阿凯写的Orbbec工具库, 确保orbbec_utils.py跟你目前所执行的脚本在同一级目录下\n",
    "from orbbecsdk_utils import *\n",
    "# 添加Python Path\n",
    "add_path_pyorbbecsdk()\n",
    "\n",
    "# 导入pyorbbecsdk\n",
    "from pyorbbecsdk import *"
   ]
  },
  {
   "cell_type": "code",
   "execution_count": 2,
   "id": "37b5d2f5",
   "metadata": {},
   "outputs": [],
   "source": [
    "import numpy as np\n",
    "import cv2\n",
    "import open3d as o3d\n",
    "from matplotlib import pyplot as plt\n",
    "\n",
    "import logging\n",
    "\n",
    "# 获取logger实例\n",
    "logger = logging.getLogger(\"OrbbecSDK Utils\")\n",
    "# 指定日志的最低输出级别\n",
    "logger.setLevel(logging.ERROR)"
   ]
  },
  {
   "cell_type": "markdown",
   "id": "ee48fa5e",
   "metadata": {},
   "source": [
    "## 初始化视频流"
   ]
  },
  {
   "cell_type": "code",
   "execution_count": 3,
   "id": "4f51b06a",
   "metadata": {},
   "outputs": [
    {
     "name": "stdout",
     "output_type": "stream",
     "text": [
      "[05/25 00:09:04.143287][info][65087][Context.cpp:68] Context created with config: default config!\n",
      "[05/25 00:09:04.143303][info][65087][Context.cpp:73] Work directory=/home/kyle/Project/奥比中光3D相机/Gemini2-软件资料-阿凯爱玩机器人/02.奥比中光-pyobbecsdk示例代码, SDK version=v1.10.5-20240511-7dc8be9\n",
      "[05/25 00:09:04.143331][info][65087][LinuxPal.cpp:31] createObPal: create LinuxPal!\n",
      "[05/25 00:09:04.212135][info][65087][LinuxPal.cpp:142] Create PollingDeviceWatcher!\n",
      "[05/25 00:09:04.212171][info][65087][DeviceManager.cpp:15] Current found device(s): (1)\n",
      "[05/25 00:09:04.212176][info][65087][DeviceManager.cpp:24] \t- Name: Orbbec Gemini 335, PID: 0x0800, SN/ID: CP1L44P00049, Connection: USB3.2\n",
      "[INFO] 设备是否连接成功: True\n",
      "[05/25 00:09:04.691823][error][65087][HostProtocol.cpp:420] Set property value failed! propertyId:63, rc:{statusCode: 9, respErrorCode: 2, msg: }\n",
      "[05/25 00:09:04.692129][error][65087][HostProtocol.cpp:420] Set property value failed! propertyId:63, rc:{statusCode: 9, respErrorCode: 2, msg: }\n"
     ]
    }
   ],
   "source": [
    "# 连接设备\n",
    "ret, device = connect_device()\n",
    "print(f\"[INFO] 设备是否连接成功: {ret}\")\n",
    "\n",
    "# pipeline初始化\n",
    "pipeline = init_pipeline(device)\n",
    "# 清空缓冲区\n",
    "empty_cache(pipeline)\n",
    "\n",
    "# 获取pipeline的相机参数\n",
    "camera_param = pipeline.get_camera_param()"
   ]
  },
  {
   "cell_type": "markdown",
   "id": "3af370b5",
   "metadata": {},
   "source": [
    "## 工具函数"
   ]
  },
  {
   "cell_type": "code",
   "execution_count": 4,
   "id": "65bd1f05",
   "metadata": {},
   "outputs": [],
   "source": [
    "def preview_depth():\n",
    "    '''预览深度图'''\n",
    "    # 多采集几次, 清除缓存让配置生效\n",
    "    for i in range(30):\n",
    "        ret, color_img, depth_img = capture(pipeline)\n",
    "\n",
    "    plt.imshow(depth_img)"
   ]
  },
  {
   "cell_type": "code",
   "execution_count": 5,
   "id": "83036468",
   "metadata": {},
   "outputs": [],
   "source": [
    "def preview_pcd():\n",
    "    '''预览PCD点云数据'''\n",
    "    # 多采集几次, 清除缓存让配置生效\n",
    "    for i in range(30):\n",
    "        ret, color_img, depth_img = capture(pipeline)    \n",
    "    # 获取Open3D PCD格式的点云\n",
    "    pcd = create_point_cloud(color_img, depth_img, camera_param)\n",
    "    # 点云可视化\n",
    "    o3d.visualization.draw_geometries([pcd])\n",
    "    return pcd"
   ]
  },
  {
   "cell_type": "code",
   "execution_count": 6,
   "id": "9449f749",
   "metadata": {},
   "outputs": [],
   "source": [
    "def print_camera_param_info(device, prop_id):\n",
    "    '''打印相机参数信息'''\n",
    "    # 查询当前参数\n",
    "    cur_value = device.get_int_property(prop_id)\n",
    "    print(f\"当前的参数配置为: {cur_value}\")\n",
    "    # 查询白平衡的取值范围\n",
    "    value_range = device.get_int_property_range(prop_id)\n",
    "    print(f\"数值范围: 最小值 {value_range.min} | 最大值 {value_range.max}\")"
   ]
  },
  {
   "cell_type": "markdown",
   "id": "4bd599ca",
   "metadata": {},
   "source": [
    "## 曝光"
   ]
  },
  {
   "cell_type": "markdown",
   "id": "bd3dafed",
   "metadata": {},
   "source": [
    "### 手动曝光"
   ]
  },
  {
   "cell_type": "code",
   "execution_count": 7,
   "id": "e59c815a",
   "metadata": {},
   "outputs": [],
   "source": [
    "# 手动曝光需要先将自动曝光开关关闭\n",
    "device.set_bool_property(OBPropertyID.OB_PROP_DEPTH_AUTO_EXPOSURE_BOOL, False)"
   ]
  },
  {
   "cell_type": "code",
   "execution_count": 8,
   "id": "87a288c4",
   "metadata": {},
   "outputs": [
    {
     "name": "stdout",
     "output_type": "stream",
     "text": [
      "当前的参数配置为: 3000\n",
      "数值范围: 最小值 1 | 最大值 165000\n"
     ]
    }
   ],
   "source": [
    "# 查询当前的曝光值，与有效数值范围\n",
    "print_camera_param_info(device, OBPropertyID.OB_PROP_DEPTH_EXPOSURE_INT)"
   ]
  },
  {
   "cell_type": "code",
   "execution_count": 9,
   "id": "51e19508",
   "metadata": {},
   "outputs": [],
   "source": [
    "# 手动设置曝光值\n",
    "device.set_int_property(OBPropertyID.OB_PROP_DEPTH_EXPOSURE_INT, 3000)"
   ]
  },
  {
   "cell_type": "markdown",
   "id": "388351d2",
   "metadata": {},
   "source": [
    "### 自动曝光"
   ]
  },
  {
   "cell_type": "code",
   "execution_count": 10,
   "id": "f8bb0559",
   "metadata": {},
   "outputs": [],
   "source": [
    "# 自动曝光开关开启\n",
    "device.set_bool_property(OBPropertyID.OB_PROP_DEPTH_AUTO_EXPOSURE_BOOL, True)"
   ]
  },
  {
   "cell_type": "code",
   "execution_count": 11,
   "id": "0659b904",
   "metadata": {},
   "outputs": [
    {
     "data": {
      "text/plain": [
       "True"
      ]
     },
     "execution_count": 11,
     "metadata": {},
     "output_type": "execute_result"
    }
   ],
   "source": [
    "# 查询自动曝光是否开启\n",
    "device.get_bool_property(OBPropertyID.OB_PROP_DEPTH_AUTO_EXPOSURE_BOOL)"
   ]
  },
  {
   "cell_type": "markdown",
   "id": "cdaefc03",
   "metadata": {},
   "source": [
    "## 增益"
   ]
  },
  {
   "cell_type": "markdown",
   "id": "677b3b42",
   "metadata": {},
   "source": [
    "> 注意事项: 在自动曝光模式下， 手动设置增益是无效的。 "
   ]
  },
  {
   "cell_type": "code",
   "execution_count": 12,
   "id": "1977e489",
   "metadata": {},
   "outputs": [
    {
     "name": "stdout",
     "output_type": "stream",
     "text": [
      "当前的参数配置为: 3000\n",
      "数值范围: 最小值 16 | 最大值 248\n"
     ]
    }
   ],
   "source": [
    "# 查询当前的增益，与有效数值范围\n",
    "print_camera_param_info(device, OBPropertyID.OB_PROP_DEPTH_GAIN_INT)"
   ]
  },
  {
   "cell_type": "code",
   "execution_count": 13,
   "id": "3e727959",
   "metadata": {},
   "outputs": [],
   "source": [
    "# 手动设置增益值\n",
    "device.set_int_property(OBPropertyID.OB_PROP_DEPTH_GAIN_INT, 3000)"
   ]
  },
  {
   "cell_type": "markdown",
   "id": "64d947f0",
   "metadata": {},
   "source": [
    "## 深度工作模式\n"
   ]
  },
  {
   "cell_type": "code",
   "execution_count": 14,
   "id": "b3900595",
   "metadata": {},
   "outputs": [],
   "source": [
    "# 获取工作模式列表\n",
    "mode_list = device.get_depth_work_mode_list()"
   ]
  },
  {
   "cell_type": "code",
   "execution_count": 15,
   "id": "6ba72a29",
   "metadata": {},
   "outputs": [
    {
     "name": "stdout",
     "output_type": "stream",
     "text": [
      "工作模式个数: 6\n"
     ]
    }
   ],
   "source": [
    "mode_num = mode_list.get_count()\n",
    "print(f\"工作模式个数: {mode_num}\")"
   ]
  },
  {
   "cell_type": "code",
   "execution_count": 16,
   "id": "e3e84d1d",
   "metadata": {},
   "outputs": [
    {
     "name": "stdout",
     "output_type": "stream",
     "text": [
      "模式名称: \n",
      "High Accuracy\n",
      "数据类型\n",
      "<class 'pyorbbecsdk.OBDepthWorkMode'>\n"
     ]
    }
   ],
   "source": [
    "# 设置高精度模式\n",
    "mode = mode_list.get_depth_work_mode_by_index(2)\n",
    "print(\"模式名称: \")\n",
    "print(mode)\n",
    "\n",
    "print(\"数据类型\")\n",
    "print(type(mode))"
   ]
  },
  {
   "cell_type": "code",
   "execution_count": 17,
   "id": "6d91c7a4",
   "metadata": {},
   "outputs": [
    {
     "name": "stdout",
     "output_type": "stream",
     "text": [
      "序号[0] 名称: Default\n",
      "序号[1] 名称: Hand\n",
      "序号[2] 名称: High Accuracy\n",
      "序号[3] 名称: High Density\n",
      "序号[4] 名称: Medium Density\n",
      "序号[5] 名称: Factory Calib\n"
     ]
    }
   ],
   "source": [
    "for i in range(mode_num):\n",
    "    mode_name = mode_list.get_name_by_index(i)\n",
    "    print(f\"序号[{i}] 名称: {mode_name}\")"
   ]
  },
  {
   "cell_type": "markdown",
   "id": "b0928824",
   "metadata": {},
   "source": [
    "需要注意的是深度相机工作模式必须要在数据流开启之前进行配置。或者暂停当前的数据流， 配置后重新开启。 "
   ]
  },
  {
   "cell_type": "code",
   "execution_count": 18,
   "id": "a1b94111",
   "metadata": {},
   "outputs": [],
   "source": [
    "# 中止当前的数据流\n",
    "pipeline.stop()\n",
    "\n",
    "# 关闭数据流后要等待一段时间，才可以\n",
    "time.sleep(1)\n",
    "\n",
    "# 设置深度工作模式\n",
    "device.set_depth_work_mode(mode)\n",
    "\n",
    "\n",
    "# 配置深度工作模式\n",
    "time.sleep(1)"
   ]
  },
  {
   "cell_type": "code",
   "execution_count": 19,
   "id": "860f0af3",
   "metadata": {},
   "outputs": [
    {
     "name": "stdout",
     "output_type": "stream",
     "text": [
      "[05/25 00:09:26.491363][error][65087][HostProtocol.cpp:420] Set property value failed! propertyId:63, rc:{statusCode: 9, respErrorCode: 2, msg: }\n",
      "[05/25 00:09:26.491654][error][65087][HostProtocol.cpp:420] Set property value failed! propertyId:63, rc:{statusCode: 9, respErrorCode: 2, msg: }\n"
     ]
    }
   ],
   "source": [
    "# 重新开启数据流\n",
    "pipeline.start()"
   ]
  },
  {
   "cell_type": "code",
   "execution_count": null,
   "id": "2155cd32",
   "metadata": {},
   "outputs": [],
   "source": [
    "> TODO 是哪个参数配置失败了?"
   ]
  },
  {
   "cell_type": "markdown",
   "id": "125fda8a",
   "metadata": {},
   "source": [
    "## 预览深度图"
   ]
  },
  {
   "cell_type": "code",
   "execution_count": 20,
   "id": "00f42e96",
   "metadata": {},
   "outputs": [
    {
     "data": {
      "image/png": "[encoded data removed]",
      "text/plain": [
       "<Figure size 432x288 with 1 Axes>"
      ]
     },
     "metadata": {
      "needs_background": "light"
     },
     "output_type": "display_data"
    }
   ],
   "source": [
    "preview_depth()"
   ]
  }
 ],
 "metadata": {
  "kernelspec": {
   "display_name": "Python 3 (ipykernel)",
   "language": "python",
   "name": "python3"
  },
  "language_info": {
   "codemirror_mode": {
    "name": "ipython",
    "version": 3
   },
   "file_extension": ".py",
   "mimetype": "text/x-python",
   "name": "python",
   "nbconvert_exporter": "python",
   "pygments_lexer": "ipython3",
   "version": "3.10.12"
  }
 },
 "nbformat": 4,
 "nbformat_minor": 5
}
