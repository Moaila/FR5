{
 "cells": [
  {
   "cell_type": "markdown",
   "id": "6271c39b",
   "metadata": {},
   "source": [
    "# 测试pyorbbecsdk动态链接库导入\n",
    "\n",
    "检查CPU架构, 当前的Python版本, 以及pyorbbecsdk动态链接库是否可以正常导入。\n",
    "\n",
    "```\n",
    "@作者: 阿凯爱玩机器人\n",
    "@QQ: 244561792\n",
    "@微信: xingshunkai\n",
    "@邮箱: xingshunkai@qq.com\n",
    "@网址: deepsenserobot.com\n",
    "@B站: \"阿凯爱玩机器人\"\n",
    "```\n"
   ]
  },
  {
   "cell_type": "markdown",
   "id": "4fabddcc",
   "metadata": {},
   "source": [
    "## 检查CPU架构"
   ]
  },
  {
   "cell_type": "code",
   "execution_count": 1,
   "id": "e942633c",
   "metadata": {},
   "outputs": [
    {
     "name": "stdout",
     "output_type": "stream",
     "text": [
      "CPU架构: x86_64\n"
     ]
    }
   ],
   "source": [
    "import platform\n",
    "\n",
    "cpu_architecture = platform.machine()\n",
    "print(\"CPU架构:\", cpu_architecture)\n",
    "\n",
    "# 这里需要强调下, x64跟AMD64本质上就是同一种架构\n",
    "# 只是说，在Ubuntu下获取的架构名称为x86_64, 在Windows下获取的架构名称为AMD64\n",
    "if cpu_architecture not in  [\"x86_64\", \"AMD64\"]:\n",
    "    print(\"特殊架构，不能直接使用现有动态链接库。需要自己从源码编译pyorbbecsdk\")\n",
    "    print(\"具体步骤, 需要看我们官网(deepsenserobot.com)中pyorbbeck开发环境配置相关章节\")"
   ]
  },
  {
   "cell_type": "markdown",
   "id": "1007d471",
   "metadata": {},
   "source": [
    "## 检查Python版本, 添加Python Path"
   ]
  },
  {
   "cell_type": "markdown",
   "id": "7125ac8e",
   "metadata": {},
   "source": [
    "检查自己的Python版本号\n",
    "\n",
    "* **Windows x64架构** 选择`Python 3.10`\n",
    "* **Ubuntu x64架构** 选择`Python3.10`\n",
    "\n",
    "我只编译了Python3.10的动态链接库, 如果没有现成的，则需要自己从源码编译。\n",
    "\n",
    "如果满足版本要求, 则将pyorbbecsdk所在的动态链接库路径添加到Python Path里面， 这样就可以导入pyorbbecsdk了。\n",
    "当然你也可以选择将动态链接库拷贝到jupyter notebook脚本/Python脚本的同一个路径下。"
   ]
  },
  {
   "cell_type": "code",
   "execution_count": 2,
   "id": "949f46ab",
   "metadata": {},
   "outputs": [
    {
     "name": "stdout",
     "output_type": "stream",
     "text": [
      "当前的Python版本为: \n",
      "3.10.12 (main, Nov 20 2023, 15:14:05) [GCC 11.4.0]\n",
      "\n",
      "pyorbbecsdk动态链接库存放路径为: \n",
      "lib/pyorbbecsdk/linux\n",
      "\n",
      "添加到python path里面\n"
     ]
    }
   ],
   "source": [
    "import os\n",
    "import sys\n",
    "\n",
    "# 查询版本信息\n",
    "print(\"当前的Python版本为: \")\n",
    "print(sys.version)\n",
    "version_info = sys.version.split(\" \")[0].split(\".\")\n",
    "\n",
    "# 检查内置的动态链接库有没有满足版本要求的\n",
    "# 根据操作系统类型, 导入不同的pyorbbecsdk动态链接库\n",
    "pyorbbecsdk_path = None\n",
    "if os.name == 'nt' and version_info[1] in [\"10\"]:\n",
    "    # Windows操作系统\n",
    "    pyorbbecsdk_path = os.path.join('lib', 'pyorbbecsdk', 'windows')\n",
    "elif os.name == 'posix'  and version_info[1] in [\"10\"]:\n",
    "    # Ubuntu操作系统(Linux)\n",
    "    pyorbbecsdk_path = os.path.join('lib', 'pyorbbecsdk', 'linux')\n",
    "\n",
    "if pyorbbecsdk_path is not None:\n",
    "    print(\"\\npyorbbecsdk动态链接库存放路径为: \")\n",
    "    print(pyorbbecsdk_path)\n",
    "    print(\"\\n添加到python path里面\")\n",
    "    sys.path.append(pyorbbecsdk_path)\n",
    "else:\n",
    "    print(\"动态链接库跟Python版本不匹配。需要自己从源码编译pyorbbecsdk\")\n",
    "    print(\"具体步骤, 需要看我们官网(deepsenserobot.com)中pyorbbeck开发环境配置相关章节\")"
   ]
  },
  {
   "cell_type": "markdown",
   "id": "98b98e7a",
   "metadata": {},
   "source": [
    "## 尝试导入pyorbbecsdk"
   ]
  },
  {
   "cell_type": "code",
   "execution_count": 3,
   "id": "4a6ba9ae",
   "metadata": {},
   "outputs": [],
   "source": [
    "# 奥比中光 SDK\n",
    "from pyorbbecsdk import *"
   ]
  },
  {
   "cell_type": "markdown",
   "id": "31151061",
   "metadata": {},
   "source": [
    "这个步骤如果没有报错则说明动态链接库跟当前的系统以及Python版本是匹配的。 如果报错则需要自己从源码进行编译。 "
   ]
  }
 ],
 "metadata": {
  "kernelspec": {
   "display_name": "Python 3 (ipykernel)",
   "language": "python",
   "name": "python3"
  },
  "language_info": {
   "codemirror_mode": {
    "name": "ipython",
    "version": 3
   },
   "file_extension": ".py",
   "mimetype": "text/x-python",
   "name": "python",
   "nbconvert_exporter": "python",
   "pygments_lexer": "ipython3",
   "version": "3.10.12"
  }
 },
 "nbformat": 4,
 "nbformat_minor": 5
}
