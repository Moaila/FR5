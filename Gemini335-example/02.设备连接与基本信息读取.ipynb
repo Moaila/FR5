{
 "cells": [
  {
   "cell_type": "markdown",
   "id": "b658297f",
   "metadata": {},
   "source": [
    "## 前置知识\n",
    "在运行此脚本之前， 请先查阅我们编写的文档: `第0章. 概述` / `Gemini2连接与USB规则配置`。\n",
    "\n",
    "\n",
    "```\n",
    "@作者: 阿凯爱玩机器人\n",
    "@QQ: 244561792\n",
    "@微信: xingshunkai\n",
    "@邮箱: xingshunkai@qq.com\n",
    "@网址: deepsenserobot.com\n",
    "@B站: \"阿凯爱玩机器人\"\n",
    "```\n",
    "\n",
    "\n",
    "## 导入依赖"
   ]
  },
  {
   "cell_type": "code",
   "execution_count": 2,
   "id": "2f7d64bd",
   "metadata": {},
   "outputs": [
    {
     "name": "stdout",
     "output_type": "stream",
     "text": [
      "Jupyter environment detected. Enabling Open3D WebVisualizer.\n",
      "[Open3D INFO] WebRTC GUI backend enabled.\n",
      "[Open3D INFO] WebRTCWindowSystem: HTTP handshake server disabled.\n"
     ]
    }
   ],
   "source": [
    "import time\n",
    "import sys\n",
    "import os\n",
    "\n",
    "# 导入阿凯写的Orbbec工具库\n",
    "# 确保orbbec_utils.py跟你目前所执行的脚本在同一级目录下\n",
    "from orbbecsdk_utils import *\n",
    "# 添加Python Path\n",
    "add_path_pyorbbecsdk()\n",
    "\n",
    "# 导入pyorbbecsdk\n",
    "from pyorbbecsdk import *"
   ]
  },
  {
   "cell_type": "markdown",
   "id": "46616237",
   "metadata": {},
   "source": [
    "## 配置日志等级"
   ]
  },
  {
   "cell_type": "code",
   "execution_count": 3,
   "id": "8e464aa3",
   "metadata": {},
   "outputs": [
    {
     "name": "stdout",
     "output_type": "stream",
     "text": [
      "[06/24 13:36:20.063292][info][16495][Context.cpp:68] Context created with config: default config!\n",
      "[06/24 13:36:20.063327][info][16495][Context.cpp:73] Work directory=/home/kyle/Project/奥比中光3D相机/Gemini335-软件资料-阿凯爱玩机器人/02.奥比中光-pyobbecsdk示例代码(Gemini335), SDK version=v1.10.5-20240511-7dc8be9\n",
      "[06/24 13:36:20.063343][info][16495][LinuxPal.cpp:31] createObPal: create LinuxPal!\n",
      "[06/24 13:36:20.137100][info][16495][LinuxPal.cpp:142] Create PollingDeviceWatcher!\n",
      "[06/24 13:36:20.137118][info][16495][DeviceManager.cpp:15] Current found device(s): (1)\n",
      "[06/24 13:36:20.137122][info][16495][DeviceManager.cpp:24] \t- Name: Orbbec Gemini 335, PID: 0x0800, SN/ID: CP1L44P00049, Connection: USB3.2\n"
     ]
    }
   ],
   "source": [
    "# 设置日志等级为ERROR \n",
    "# 这样不会频繁的打印日志信息\n",
    "ctx = Context()\n",
    "ctx.set_logger_level(OBLogLevel.ERROR)"
   ]
  },
  {
   "cell_type": "markdown",
   "id": "28925ac1",
   "metadata": {},
   "source": [
    "通过日志信息, 我们可以看到使用的是USB3.0的端口(` Connection: USB3.0`)。"
   ]
  },
  {
   "cell_type": "markdown",
   "id": "c74cf688",
   "metadata": {},
   "source": [
    "## 查看相机列表"
   ]
  },
  {
   "cell_type": "code",
   "execution_count": 4,
   "id": "ef183586",
   "metadata": {},
   "outputs": [
    {
     "name": "stdout",
     "output_type": "stream",
     "text": [
      "检测到1个设备\n"
     ]
    }
   ],
   "source": [
    "# 查询设备列表 \n",
    "device_list = ctx.query_devices()\n",
    "# 获取设备个数\n",
    "device_num = device_list.get_count()\n",
    "\n",
    "if device_num == 0:\n",
    "    print(\"[ERROR]没有设备连接\")\n",
    "else:\n",
    "    print(f\"检测到{device_num}个设备\")"
   ]
  },
  {
   "cell_type": "markdown",
   "id": "ca27bd27",
   "metadata": {},
   "source": [
    "**注意事项**\n",
    "1. 如果检测到当前没有设备， 就不要去执行后面的`连接设备`的操作了。会导致程序异常退出。\n",
    "2. 如果你明明将相机插入到电脑上，但是这里并没有设备连接的显示， 你需要参考我们编写的文档: `第0章. 概述` / `Gemini335连接与USB规则配置`\n",
    "\n"
   ]
  },
  {
   "cell_type": "markdown",
   "id": "007b54c8",
   "metadata": {},
   "source": [
    "## 连接设备\n",
    "\n",
    "获取第一个设备的序列号"
   ]
  },
  {
   "cell_type": "code",
   "execution_count": 5,
   "id": "85975adb",
   "metadata": {},
   "outputs": [
    {
     "name": "stdout",
     "output_type": "stream",
     "text": [
      "设备序列号为: CP1L44P00049\n"
     ]
    }
   ],
   "source": [
    "# 获取特定索引下的设备序列号\n",
    "serial_num = device_list.get_device_serial_number_by_index(0)\n",
    "print(f\"设备序列号为: {serial_num}\")"
   ]
  },
  {
   "cell_type": "markdown",
   "id": "09f62aff",
   "metadata": {},
   "source": [
    "需要注意的是相机属于USB设备，USB设备有独占属性， 不能够同时被多个进程/脚本访问。\n",
    "在连接设备之前，需要关闭其他占用设备的脚本/上位机软件。\n",
    "\n",
    "而且设备在连接之后，不能重复连接。重新连接之前需要先释放当前的连接。 "
   ]
  },
  {
   "cell_type": "markdown",
   "id": "f5c67daf",
   "metadata": {},
   "source": [
    "可以通过索引号连接设备。"
   ]
  },
  {
   "cell_type": "code",
   "execution_count": 5,
   "id": "f5d085c9",
   "metadata": {},
   "outputs": [],
   "source": [
    "# 获取第一个设备, 并打开设备\n",
    "# device = device_list.get_device_by_index(0)"
   ]
  },
  {
   "cell_type": "markdown",
   "id": "69caea81",
   "metadata": {},
   "source": [
    "也可以根据序列号连接设备"
   ]
  },
  {
   "cell_type": "code",
   "execution_count": 6,
   "id": "af89e12e",
   "metadata": {},
   "outputs": [],
   "source": [
    "# 根据设备序列号创建设备\n",
    "# device = device_list.get_device_by_serial_number(serial_num)"
   ]
  },
  {
   "cell_type": "markdown",
   "id": "106f94f7",
   "metadata": {},
   "source": [
    "阿凯推荐用阿凯写的orbbec工具箱里面的设备连接方法, 具体实现比较复杂， 细节见`orbbecsdk_utils.py`"
   ]
  },
  {
   "cell_type": "code",
   "execution_count": 6,
   "id": "c16a98b9",
   "metadata": {},
   "outputs": [
    {
     "name": "stdout",
     "output_type": "stream",
     "text": [
      "[INFO] 设备是否连接成功: True\n"
     ]
    }
   ],
   "source": [
    "# 连接设备\n",
    "ret, device = connect_device()\n",
    "print(f\"[INFO] 设备是否连接成功: {ret}\")"
   ]
  },
  {
   "cell_type": "code",
   "execution_count": 8,
   "id": "b7ad15c0",
   "metadata": {},
   "outputs": [],
   "source": [
    "# 下面是指定序列号的写法\n",
    "# ret, device = connect_device(serial_num=serial_num)"
   ]
  },
  {
   "cell_type": "markdown",
   "id": "929cc713",
   "metadata": {},
   "source": [
    "**注意事项**\n",
    "* 如果设备创建失败，就不要继续后续的操作了。"
   ]
  },
  {
   "cell_type": "markdown",
   "id": "3ba896e2",
   "metadata": {},
   "source": [
    "## 获取相机信息\n",
    "\n",
    "需要注意的是，在获取设备的时候，同时也就打开了。 \n",
    "USB设备是独占性的，只能被一个脚本/软件使用。因此在执行下面的代码的时候，注意需要把其他占用相机的上位机/Jupyter Notebook脚本/Python脚本都关掉。 \n",
    "而且如果打开了一次， 就不能重复打开。 需要先释放对应的资源。"
   ]
  },
  {
   "cell_type": "code",
   "execution_count": 7,
   "id": "a5e53bab",
   "metadata": {},
   "outputs": [
    {
     "name": "stdout",
     "output_type": "stream",
     "text": [
      "DeviceInfo(name=Orbbec Gemini 335\n",
      ", pid=2048\n",
      ", vid=11205, uid=2-5-7\n",
      ", serial_number=CP1L44P00049\n",
      ", firmware_version=1.2.20\n",
      ", connection_type=USB3.2\n",
      ", hardware_version=0.1\n",
      ", supported_min_sdk_version=1.0.1\n",
      ", device_type=1)\n"
     ]
    }
   ],
   "source": [
    "# 获取设备信息\n",
    "device_info = device.get_device_info()\n",
    "# 可以直接将设备信息打印出来\n",
    "print(device_info)"
   ]
  },
  {
   "cell_type": "code",
   "execution_count": 8,
   "id": "b7676fb3",
   "metadata": {},
   "outputs": [
    {
     "name": "stdout",
     "output_type": "stream",
     "text": [
      "设备名称: Orbbec Gemini 335\n"
     ]
    }
   ],
   "source": [
    "device_name = device_info.get_name()\n",
    "print(f\"设备名称: {device_name}\")"
   ]
  },
  {
   "cell_type": "code",
   "execution_count": 9,
   "id": "97388efd",
   "metadata": {},
   "outputs": [
    {
     "name": "stdout",
     "output_type": "stream",
     "text": [
      "设备连接方式: USB3.2\n"
     ]
    }
   ],
   "source": [
    "connec_type = device_info.get_connection_type()\n",
    "print(f\"设备连接方式: {connec_type}\")\n",
    "\n",
    "if connec_type not in  [\"USB3.0\", \"USB3.1\", \"USB3.2\"]:\n",
    "    print(\"请使用USB3.0端口以及USB3.0的数据线\")"
   ]
  },
  {
   "cell_type": "code",
   "execution_count": 12,
   "id": "a5839cf2",
   "metadata": {},
   "outputs": [
    {
     "data": {
      "text/plain": [
       "<OBDeviceType.LIGHT_BINOCULAR: 1>"
      ]
     },
     "execution_count": 12,
     "metadata": {},
     "output_type": "execute_result"
    }
   ],
   "source": [
    "# 获取设备类型\n",
    "device_info.get_device_type()"
   ]
  },
  {
   "cell_type": "markdown",
   "id": "a625d847",
   "metadata": {},
   "source": [
    "奥比中光的3D相机的USB设备公司ID(`VID`)均为`0x2bc5`"
   ]
  },
  {
   "cell_type": "code",
   "execution_count": 10,
   "id": "83cafad6",
   "metadata": {},
   "outputs": [
    {
     "name": "stdout",
     "output_type": "stream",
     "text": [
      "USB设备公司ID: 11205  十六进制: 0x2bc5\n"
     ]
    }
   ],
   "source": [
    "device_vid = device_info.get_vid()\n",
    "print(f\"USB设备公司ID: {device_vid}  十六进制: {hex(device_vid)}\")"
   ]
  },
  {
   "cell_type": "markdown",
   "id": "2967fb88",
   "metadata": {},
   "source": [
    "相机的不同型号有各自对应的`PID`, 例如Gemini355对应的`PID`为`0x0670`"
   ]
  },
  {
   "cell_type": "code",
   "execution_count": 12,
   "id": "adee37b8",
   "metadata": {},
   "outputs": [
    {
     "name": "stdout",
     "output_type": "stream",
     "text": [
      "产品型号ID: 2048  十六进制: 0x800\n"
     ]
    }
   ],
   "source": [
    "device_pid = device_info.get_pid()\n",
    "print(f\"产品型号ID: {device_pid}  十六进制: {hex(device_pid)}\")"
   ]
  },
  {
   "cell_type": "markdown",
   "id": "4859d9e1",
   "metadata": {},
   "source": [
    "比如你手里有两个Gemini355, 他们的`VID`跟`PID`都是一样的。 那么如何去获取某一个特定的设备呢？\n",
    "这个时候就需要通过设备的序列号来辨识， 每一个设备都有一个独一无二的序列号。"
   ]
  },
  {
   "cell_type": "code",
   "execution_count": 15,
   "id": "eb3759f2",
   "metadata": {},
   "outputs": [
    {
     "data": {
      "text/plain": [
       "'CP1L44P00049'"
      ]
     },
     "execution_count": 15,
     "metadata": {},
     "output_type": "execute_result"
    }
   ],
   "source": [
    "# 获取设备的序列号\n",
    "device_info.get_serial_number()"
   ]
  },
  {
   "cell_type": "markdown",
   "id": "7abc3497",
   "metadata": {},
   "source": [
    "获取相机的`UID`， `UID`记录了USB设备在USB总线挂载的物理路径。简单来说就是插到设备的哪个USB口上了。\n",
    "实际上物理挂载链路也可以用于辨识唯一的设备， 前提是相机固定在一个特定的USB口上。"
   ]
  },
  {
   "cell_type": "code",
   "execution_count": 13,
   "id": "b4b57fc3",
   "metadata": {},
   "outputs": [
    {
     "data": {
      "text/plain": [
       "'2-5-7'"
      ]
     },
     "execution_count": 13,
     "metadata": {},
     "output_type": "execute_result"
    }
   ],
   "source": [
    "device_info.get_uid()"
   ]
  },
  {
   "cell_type": "markdown",
   "id": "2213a94e",
   "metadata": {},
   "source": [
    "获取相机硬件的版本号"
   ]
  },
  {
   "cell_type": "code",
   "execution_count": 14,
   "id": "52960b6c",
   "metadata": {},
   "outputs": [
    {
     "name": "stdout",
     "output_type": "stream",
     "text": [
      "相机硬件版本号: \n",
      "0.1\n"
     ]
    }
   ],
   "source": [
    "print(\"相机硬件版本号: \")\n",
    "print(device_info.get_hardware_version())"
   ]
  },
  {
   "cell_type": "markdown",
   "id": "d6202e4e",
   "metadata": {},
   "source": [
    "获取相机固件的版本号"
   ]
  },
  {
   "cell_type": "code",
   "execution_count": 15,
   "id": "42ce9bc7",
   "metadata": {},
   "outputs": [
    {
     "name": "stdout",
     "output_type": "stream",
     "text": [
      "相机固件版本号: \n",
      "1.2.20\n"
     ]
    }
   ],
   "source": [
    "print(\"相机固件版本号: \")\n",
    "print(device_info.get_firmware_version())"
   ]
  },
  {
   "cell_type": "markdown",
   "id": "ddeff489",
   "metadata": {},
   "source": [
    "获取支持的Orbbec SDK最低版本"
   ]
  },
  {
   "cell_type": "code",
   "execution_count": 16,
   "id": "45768263",
   "metadata": {},
   "outputs": [
    {
     "name": "stdout",
     "output_type": "stream",
     "text": [
      "SDK最低支持版本\n",
      "1.0.1\n"
     ]
    }
   ],
   "source": [
    "print(\"SDK最低支持版本\")\n",
    "print(device_info.get_supported_min_sdk_version())"
   ]
  },
  {
   "cell_type": "markdown",
   "id": "8cedd782",
   "metadata": {},
   "source": [
    "## 获取基线信息"
   ]
  },
  {
   "cell_type": "code",
   "execution_count": 17,
   "id": "406f4ecd",
   "metadata": {},
   "outputs": [],
   "source": [
    "# 获取设备的基线\n",
    "baseline = device.get_baseline()"
   ]
  },
  {
   "cell_type": "code",
   "execution_count": 18,
   "id": "64b64ea8",
   "metadata": {},
   "outputs": [
    {
     "name": "stdout",
     "output_type": "stream",
     "text": [
      "基线为: 50.50199890136719 mm\n"
     ]
    }
   ],
   "source": [
    "# 基线数据 (两个红外相机等效光心的直线距离)\n",
    "print(f\"基线为: {baseline.baseline} mm\")"
   ]
  },
  {
   "cell_type": "code",
   "execution_count": 19,
   "id": "5fd71df6",
   "metadata": {},
   "outputs": [
    {
     "data": {
      "text/plain": [
       "0.0"
      ]
     },
     "execution_count": 19,
     "metadata": {},
     "output_type": "execute_result"
    }
   ],
   "source": [
    "# TODO 两个红外相机等效光心在Z轴上的偏移量 ？\n",
    "baseline.zpd"
   ]
  },
  {
   "cell_type": "markdown",
   "id": "70a35721",
   "metadata": {},
   "source": [
    "## 相机设备状态"
   ]
  },
  {
   "cell_type": "code",
   "execution_count": 23,
   "id": "1b639cfc",
   "metadata": {},
   "outputs": [],
   "source": [
    "# # 这个API调不通\n",
    "# # TODO [ERROR] 报错 RuntimeError: Caught an unknown exception!\n",
    "# device_state = device.get_device_state()"
   ]
  },
  {
   "cell_type": "markdown",
   "id": "149d57e1",
   "metadata": {},
   "source": [
    "## 与设备重新创建连接\n",
    "将设备断开连接并重新创建连接。在设备断开连接之后，之前的设备`device`对象的访问可能会异常。\n",
    "所以在设备reboot之后，需要删除这个`device`对象。 然后在重新创建连接。"
   ]
  },
  {
   "cell_type": "code",
   "execution_count": 20,
   "id": "124ff85d",
   "metadata": {},
   "outputs": [],
   "source": [
    "# 断开设备, 重新创建连接\n",
    "device.reboot()\n",
    "# 删除设备\n",
    "del device"
   ]
  },
  {
   "cell_type": "code",
   "execution_count": 21,
   "id": "54a06a15",
   "metadata": {},
   "outputs": [],
   "source": [
    "# 重新查询设备列表 \n",
    "device_list = ctx.query_devices()\n",
    "if device_list.get_count() != 0:\n",
    "    # 根据设备序列号创建设备\n",
    "    device = device_list.get_device_by_serial_number(serial_num)"
   ]
  },
  {
   "cell_type": "code",
   "execution_count": 22,
   "id": "4ccdf3d9",
   "metadata": {},
   "outputs": [
    {
     "name": "stdout",
     "output_type": "stream",
     "text": [
      "<pyorbbecsdk.Device object at 0x71219b041970>\n"
     ]
    }
   ],
   "source": [
    "print(device)"
   ]
  }
 ],
 "metadata": {
  "kernelspec": {
   "display_name": "Python 3 (ipykernel)",
   "language": "python",
   "name": "python3"
  },
  "language_info": {
   "codemirror_mode": {
    "name": "ipython",
    "version": 3
   },
   "file_extension": ".py",
   "mimetype": "text/x-python",
   "name": "python",
   "nbconvert_exporter": "python",
   "pygments_lexer": "ipython3",
   "version": "3.10.12"
  }
 },
 "nbformat": 4,
 "nbformat_minor": 5
}
